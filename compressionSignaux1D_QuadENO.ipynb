{
 "cells": [
  {
   "cell_type": "markdown",
   "metadata": {},
   "source": [
    "<div align=\"center\"> \n",
    "    <h1> TP3 - TRANSFORMEE MULTIECHELLE 1D NON LINEAIRE</h1>\n",
    "    <h3>Réalisé par : </h3>\n",
    "    <h3>YABA BILONGO Michel Davel</h3>\n",
    "</div>"
   ]
  },
  {
   "cell_type": "markdown",
   "metadata": {},
   "source": [
    "### Enoncé : \n",
    "Les signaux considérés ici sont du type : $ x = (x_1, x_2,..., x_n )$, n représente la dimension du signal\n",
    "(on le suppose toujours une puissance de 2) et l’échantillon d’indice i est noté par $ x_i $, pour éviter les\n",
    "problèmes de traitement aux bords du signal, nous considérerons que le signal est périodique (c’est\n",
    "à dire : $ x_{n+1} = x_1, x_{n+2} = x_2 $ etc., ainsi que $ x_0 = x_n, x_{−1} = x_{n−1} $ etc.)\n",
    "On considère les exemples suivants :\n",
    "- ex1 : $ x_i = i $, 1 ≤ i ≤ n.\n",
    "- ex2 : une ligne d’une image de notre choix.\n",
    "- ex3 : $ x_i $ = sin(2πi), 1 ≤ i ≤ n/2 et $ x_i $ = 1/2 + sin(2πi), n/2 < i ≤ n."
   ]
  },
  {
   "cell_type": "code",
   "execution_count": 7,
   "metadata": {},
   "outputs": [],
   "source": [
    "import numpy as np\n",
    "from skimage.color import rgb2gray\n",
    "import matplotlib.image as mpimg\n",
    "import matplotlib.pyplot as plt"
   ]
  },
  {
   "cell_type": "markdown",
   "metadata": {},
   "source": [
    "### 1. On remplace dans les codes de la transformée de Haar, les opérations de \"downsampling\" et \"upsampling\" par deux fonction Python"
   ]
  },
  {
   "cell_type": "code",
   "execution_count": 12,
   "metadata": {},
   "outputs": [],
   "source": [
    "def downsampling(u):\n",
    "    s=2.0\n",
    "    n = len(u)\n",
    "    v = np.copy(u)\n",
    "    w = np.zeros(n)\n",
    "    m = n\n",
    "    m = m//2\n",
    "    w[0:m] = (v[0:2*m-1:2] + v[1:2*m:2]) / s\n",
    "    return w"
   ]
  },
  {
   "cell_type": "code",
   "execution_count": 13,
   "metadata": {},
   "outputs": [],
   "source": [
    "def upsampling(u):\n",
    "    s=2.0\n",
    "    n = len(u)\n",
    "    v = np.copy(u)\n",
    "    w = np.zeros(n)\n",
    "    m = n\n",
    "    m = m//2\n",
    "    w[m:2*m] = (v[0:2*m-1:2] - v[1:2*m:2]) / s \n",
    "    return w"
   ]
  },
  {
   "cell_type": "code",
   "execution_count": 16,
   "metadata": {},
   "outputs": [
    {
     "data": {
      "text/plain": [
       "array([1.5, 3.5, 5.5, 7.5, 0. , 0. , 0. , 0. ])"
      ]
     },
     "execution_count": 16,
     "metadata": {},
     "output_type": "execute_result"
    }
   ],
   "source": [
    "x = [1., 2., 3., 4., 5., 6., 7., 8.]\n",
    "down = downsampling(x)\n",
    "down"
   ]
  },
  {
   "cell_type": "code",
   "execution_count": 17,
   "metadata": {},
   "outputs": [
    {
     "data": {
      "text/plain": [
       "array([ 0. ,  0. ,  0. ,  0. , -0.5, -0.5, -0.5, -0.5])"
      ]
     },
     "execution_count": 17,
     "metadata": {},
     "output_type": "execute_result"
    }
   ],
   "source": [
    "upS = upsampling(x)\n",
    "upS"
   ]
  },
  {
   "cell_type": "markdown",
   "metadata": {},
   "source": [
    "### 2. J'écris les fonctions directe et inverse qui implémente la transformée quadradique"
   ]
  },
  {
   "cell_type": "code",
   "execution_count": 74,
   "metadata": {},
   "outputs": [],
   "source": [
    "def quad1d_eno_prediction(m, w, k):\n",
    "    \n",
    "    vpred=0.0\n",
    "    \n",
    "    if k== 0 | k==1 | k == m-2 | k == m-1:\n",
    "        #on calcule les valeurs des erreurs aux bords\n",
    "        vpred = w[k]\n",
    "    \n",
    "    if k in range(2, m-4):\n",
    "        #on calcule les valeurs prédites; on calcule les différences finies\n",
    "        c = abs(w[k-1] - w[[k]]) + abs(w[k] - w[k+1])\n",
    "        g = abs(w[k-2] - w[k-1]) + abs(w[k] - w[k-1])\n",
    "        d = abs(w[k+2] - w[k+1]) + abs(w[k] - w[k+1])\n",
    "        #On calcule le minimum\n",
    "        m = np.min(c, g, d)\n",
    "        if m == c:\n",
    "            vpred = w[k] -(w[k-1] - w[k+1])/8\n",
    "        if m == g:\n",
    "            vpred = (5*w[k])/8 + w[k-1]/2 - w[k-2]/8\n",
    "        if m == d:\n",
    "            vpred = (11*w[k])/8 - w[k+1]/2 + w[k+2]/8\n",
    "    \n",
    "    return vpred"
   ]
  },
  {
   "cell_type": "code",
   "execution_count": 34,
   "metadata": {},
   "outputs": [],
   "source": [
    "def quad1d_eno_direct(u):\n",
    "    n = len(u)\n",
    "    v = np.copy(u)\n",
    "    w = np.zeros(n)\n",
    "    m = n\n",
    "    while 1<m:\n",
    "        for k in range(0, m//2):\n",
    "            # on calcule les valeurs moyennes\n",
    "            w[k] = (v[2*k] + v[2*k + 1])/2\n",
    "        \n",
    "        for k in range(0, m//2):\n",
    "            # on calcule les valeurs prédites\n",
    "            vpred = quad1d_eno_prediction(m//2, w, k)\n",
    "            # on calcule l'erreur\n",
    "            w[k + (m//2)] = v[2*k] - vpred\n",
    "            \n",
    "        for k in range(0, m):\n",
    "            v[k] = w[k]\n",
    "            \n",
    "        m = m//2\n",
    "        \n",
    "    return v"
   ]
  },
  {
   "cell_type": "code",
   "execution_count": 35,
   "metadata": {},
   "outputs": [],
   "source": [
    "def quad1d_eno_inverse(u):\n",
    "    n = len(u)\n",
    "    v = np.copy(u)\n",
    "    w = np.zeros(n)\n",
    "    v_pred = np.zeros(n)\n",
    "    m = 1\n",
    "    while m<n :\n",
    "        for k in range(0, m):\n",
    "            # on calcule les valeurs prédites\n",
    "            vpred = quad1d_eno_prediction(m, v, k)\n",
    "            # on ajoute l'erreur càd le détail pour trouver les valeurs initiales\n",
    "            w[2*k] = vpred + v[k+m]\n",
    "            # on calcule la valeur w[2*k + 1] en utilisant la relation de consistance\n",
    "            w[2*k + 1] = 2*v[k] - w[2*k]\n",
    "            \n",
    "        for k in range(0, 2*m):\n",
    "            v[k] = w[k]\n",
    "        \n",
    "        m = 2*m\n",
    "        \n",
    "    return v"
   ]
  },
  {
   "cell_type": "markdown",
   "metadata": {},
   "source": [
    "### 3. Je vérifie pour les exemples ci-dessus que x = inverse(directe(x)) pour les signaux ex1, ex2 et ex3"
   ]
  },
  {
   "cell_type": "markdown",
   "metadata": {},
   "source": [
    "####  - Préparation des signaux à tester"
   ]
  },
  {
   "cell_type": "code",
   "execution_count": 51,
   "metadata": {},
   "outputs": [],
   "source": [
    "n=8\n",
    "# Pour ex1\n",
    "x1 = [float(i) for i in range(1, n+1)]\n",
    "#print(\"x1 = \", x1)\n",
    "\n",
    "# Pour ex2\n",
    "def rgb2gray(rgb):\n",
    "    return np.dot(rgb[...,:3], [0.2989, 0.5870, 0.1140])\n",
    "\n",
    "img = mpimg.imread('lena.png')     \n",
    "gray = rgb2gray(img)   \n",
    "x2 = gray[0]\n",
    "\n",
    "#plt.imshow(gray, cmap=plt.get_cmap('gray'), vmin=0, vmax=1)\n",
    "#plt.show()\n",
    "m=4\n",
    "x2 = x2.tolist()    \n",
    "x2 = x2[0:8]\n",
    "#print(\"x2 = \", x2)\n",
    "\n",
    "# pour ex3\n",
    "# x = sin(2πi), 1 ≤ i ≤ n/2\n",
    "x3 = [np.sin(2*np.pi*i) for i in range(1, n//2+1)]\n",
    "# x = 1/2 + sin(2πi), n/2 < i ≤ n\n",
    "x3_ = [1/2 + np.sin(2*np.pi*i) for i in range(n//2+1, n+1)]\n",
    "x3.extend(x3_)\n",
    "#print(\"x3 = \",x3)"
   ]
  },
  {
   "cell_type": "code",
   "execution_count": 50,
   "metadata": {},
   "outputs": [
    {
     "name": "stdout",
     "output_type": "stream",
     "text": [
      "x1 :  [1.0, 2.0, 3.0, 4.0, 5.0, 6.0, 7.0, 8.0]\n",
      "y1 =  [ 4.5  2.5  1.5 -1.   1.   3.   5.  -0.5]\n",
      "inverse de y1 :  [1. 2. 3. 4. 5. 6. 7. 8.]\n"
     ]
    }
   ],
   "source": [
    "# Pour ex1\n",
    "print(\"x1 : \", x1)\n",
    "y1 = quad1d_eno_direct(x1)\n",
    "print(\"y1 = \", y1)\n",
    "y1_inv = quad1d_eno_inverse(y1)\n",
    "#y1_inv = [round(i) for i in y1_inv]\n",
    "print(\"inverse de y1 : \", y1_inv)"
   ]
  },
  {
   "cell_type": "code",
   "execution_count": 43,
   "metadata": {},
   "outputs": [
    {
     "name": "stdout",
     "output_type": "stream",
     "text": [
      "x2 :  [0.63615845, 0.63615845, 0.63621845, 0.6316812, 0.63622512, 0.61371924, 0.63991061, 0.62997767]\n",
      "y2 =  [ 0.63250615  0.63505414  0.63615845 -0.00498598  0.63615845  0.63621845\n",
      "  0.63622512  0.00496647]\n",
      "inverse de y2 :  [0.63615845 0.63615845 0.63621845 0.6316812  0.63622512 0.61371924\n",
      " 0.63991061 0.62997767]\n"
     ]
    }
   ],
   "source": [
    "# Pour ex2\n",
    "#x2=[round(i,8) for i in x2]\n",
    "print(\"x2 : \",[round(i,8) for i in x2])\n",
    "#print(\"x2 = \", x2)\n",
    "y2 = quad1d_eno_direct(x2)\n",
    "print(\"y2 = \", y2)\n",
    "y2_inv = quad1d_eno_inverse(y2)\n",
    "#y2_inv = [round(i, 8) for i in y2_inv]\n",
    "print(\"inverse de y2 : \", y2_inv)"
   ]
  },
  {
   "cell_type": "markdown",
   "metadata": {},
   "source": [
    "x est bien égale à l'inverse de direct(x)"
   ]
  },
  {
   "cell_type": "code",
   "execution_count": 49,
   "metadata": {},
   "outputs": [
    {
     "name": "stdout",
     "output_type": "stream",
     "text": [
      "x3 :  [-0.0, -0.0, -0.0, -0.0, 0.5, 0.5, 0.5, 0.5]\n",
      "y3 =  [ 2.50000000e-01 -6.12323400e-16 -3.67394040e-16  2.22044605e-16\n",
      " -2.44929360e-16 -7.34788079e-16  5.00000000e-01  1.11022302e-16]\n",
      "inverse de y3 :  [-0.0, -0.0, -0.0, -0.0, 0.5, 0.5, 0.5, 0.5]\n"
     ]
    }
   ],
   "source": [
    "print(\"x3 : \",[round(i,2) for i in x3])\n",
    "y3 = quad1d_eno_direct(x3)\n",
    "print(\"y3 = \", y3)\n",
    "y3_inv = quad1d_eno_inverse(y3)\n",
    "y3_inv = [round(i, 2) for i in y3_inv]\n",
    "print(\"inverse de y3 : \", y3_inv)"
   ]
  },
  {
   "cell_type": "markdown",
   "metadata": {},
   "source": [
    "x est bien égale à l'inverse de direct(x)"
   ]
  },
  {
   "cell_type": "markdown",
   "metadata": {},
   "source": [
    "### 4. Pour les exemples, je compte les valeurs y = direct(x) supérieures à T pour T = 128 et T = 12"
   ]
  },
  {
   "cell_type": "code",
   "execution_count": 53,
   "metadata": {},
   "outputs": [],
   "source": [
    "# fonction seuillage\n",
    "def seuillage(u, T):\n",
    "    u = np.array(u)\n",
    "    return np.where(u>T, u, 0)\n",
    "\n",
    "# fonction qui calcule le nbre de valeurs dans u supérieur à un certain seuil\n",
    "def compte(u, T):\n",
    "    cpt=0\n",
    "    u = np.array(u) # on convertit la liste en tableau numpy\n",
    "    c = np.where(u > T, cpt+1, 0) # on incrémente de 1 toutes les valeurs de u supérieur à T\n",
    "    c=c.tolist() # on reconvertit à nouveau le tableau en liste\n",
    "    return c.count(1) # renvoie le nbre de fois où 1 se retrouve dans la liste"
   ]
  },
  {
   "cell_type": "code",
   "execution_count": 54,
   "metadata": {},
   "outputs": [
    {
     "name": "stdout",
     "output_type": "stream",
     "text": [
      "Il y a  0  valeur(s) supérieure(s) à 12 dans ex1\n",
      "Il y a  0  valeur(s) supérieure(s) à 12 dans ex2\n",
      "Il y a  0  valeur(s) supérieure(s) à 12 dans ex3\n"
     ]
    }
   ],
   "source": [
    "# Pour T = 12\n",
    "nb_y_ex1 = compte(y1, 12)\n",
    "print(\"Il y a \",nb_y_ex1, \" valeur(s) supérieure(s) à 12 dans ex1\")\n",
    "nb_y_ex2 = compte(y2, 12)\n",
    "print(\"Il y a \",nb_y_ex2, \" valeur(s) supérieure(s) à 12 dans ex2\")\n",
    "nb_y_ex3 = compte(y3, 12)\n",
    "print(\"Il y a \",nb_y_ex3, \" valeur(s) supérieure(s) à 12 dans ex3\")"
   ]
  },
  {
   "cell_type": "code",
   "execution_count": 55,
   "metadata": {},
   "outputs": [
    {
     "name": "stdout",
     "output_type": "stream",
     "text": [
      "Il y a  0  valeur(s) supérieure(s) à 128 dans ex1\n",
      "Il y a  0  valeur(s) supérieure(s) à 128 dans ex2\n",
      "Il y a  0  valeur(s) supérieure(s) à 128 dans ex3\n"
     ]
    }
   ],
   "source": [
    "# Pour T = 128\n",
    "nb_y_ex1 = compte(y1, 128)\n",
    "print(\"Il y a \",nb_y_ex1, \" valeur(s) supérieure(s) à 128 dans ex1\")\n",
    "nb_y_ex2 = compte(y2, 128)\n",
    "print(\"Il y a \",nb_y_ex2, \" valeur(s) supérieure(s) à 128 dans ex2\")\n",
    "nb_y_ex3 = compte(y3, 128)\n",
    "print(\"Il y a \",nb_y_ex3, \" valeur(s) supérieure(s) à 128 dans ex3\")"
   ]
  },
  {
   "cell_type": "markdown",
   "metadata": {},
   "source": [
    "#### - Comparaison avec les résultats de la transformée de Haar"
   ]
  },
  {
   "cell_type": "markdown",
   "metadata": {},
   "source": [
    "Les résultats sont identiques à ceux obtenus sur la transformée de Haar"
   ]
  },
  {
   "cell_type": "markdown",
   "metadata": {},
   "source": [
    "### 5. Pour ces exemples je calcule $e_{2,T} = ||x − inverse(seuillage(directe(x), T ))||_2$ , pour T = 128 et T = 12."
   ]
  },
  {
   "cell_type": "code",
   "execution_count": 57,
   "metadata": {},
   "outputs": [
    {
     "name": "stdout",
     "output_type": "stream",
     "text": [
      "Erreur seuil ex1 :  14.2828568570857\n",
      "Erreur seuil ex2 :  1.7891286550540824\n",
      "Erreur seuil ex3 :  0.9999999999999968\n"
     ]
    }
   ],
   "source": [
    "# calcul de l'erreur par rapport à un seuil\n",
    "# Pour le seuil 12\n",
    "# Pour ex1\n",
    "T=12\n",
    "x1_T = x1 - quad1d_eno_inverse(seuillage(y1, T))\n",
    "e_ex1_12 = np.linalg.norm((x1_T), ord=2) #calcul de la norme de x1_T\n",
    "print(\"Erreur seuil ex1 : \",e_ex1_12)\n",
    "\n",
    "x2_T = x2 - quad1d_eno_inverse(seuillage(y2, T))\n",
    "e_ex2_12 = np.linalg.norm((x2_T), ord=2)\n",
    "print(\"Erreur seuil ex2 : \",e_ex2_12)\n",
    "\n",
    "x3_T = x3 - quad1d_eno_inverse(seuillage(y3, T))\n",
    "e_ex3_12 = np.linalg.norm((x3_T), ord=2)\n",
    "print(\"Erreur seuil ex3 : \",e_ex3_12)"
   ]
  },
  {
   "cell_type": "markdown",
   "metadata": {},
   "source": [
    "### - Comparaison avec les résultats obtenus en transformée de Haar"
   ]
  },
  {
   "cell_type": "markdown",
   "metadata": {},
   "source": [
    "En transformée de Haar, l'erreur par rapport à T=12 et T=128  pour ex1, ex2 et ex3 correspond à :\n",
    "- Erreur seuil ex1 :  14.2828568570857\n",
    "- Erreur seuil ex2 :  1.7891286605275318\n",
    "- Erreur seuil ex3 :  1.0\n",
    "    \n",
    "En transformée de quadratique eno, l'erreur par rapport à T=12 et T=128  pour ex1, ex2 et ex3 correspond à :\n",
    "- Erreur seuil ex1 :  14.2828568570857\n",
    "- Erreur seuil ex2 :  1.7891286550540824\n",
    "- Erreur seuil ex3 :  0.9999999999999968\n",
    " \n"
   ]
  },
  {
   "cell_type": "markdown",
   "metadata": {},
   "source": [
    "On peut en déduire que les résultats sont meilleurs pour la transformée quadratique eno sur les signaux ex2 et ex3. En revanche sur le signal ex1, on obtient les mêmes résultats avec les 2 transformées."
   ]
  },
  {
   "cell_type": "markdown",
   "metadata": {},
   "source": [
    "### 6. Etude numériquement de la qualité de la reconstruction par rapport aux seuils utilisés. Faire le graphe de l’érreur en fonction du seuil."
   ]
  },
  {
   "cell_type": "code",
   "execution_count": 69,
   "metadata": {},
   "outputs": [],
   "source": [
    "# fonction qui renvoie les erreurs en fonction des seuils\n",
    "def getErreur(seuil, x, y):\n",
    "    e = []\n",
    "    for i in seuil:\n",
    "        x_T = x - quad1d_eno_inverse(seuillage(y, i))\n",
    "        e_T = np.linalg.norm((x_T), ord=2)\n",
    "        #print(np.max(np.array(e_T)))\n",
    "        e.append(e_T)\n",
    "    return e\n",
    "\n",
    "# fonction d'affichage du graphe\n",
    "def affichage(seuil, erreur, couleur):\n",
    "    plt.plot(seuil, erreur, color=couleur)\n",
    "    plt.xlabel('seuil')\n",
    "    plt.ylabel('erreur')\n",
    "    plt.title('Graphe des erreurs en fonction du seuil')\n",
    "    plt.legend"
   ]
  },
  {
   "cell_type": "code",
   "execution_count": 59,
   "metadata": {},
   "outputs": [],
   "source": [
    "# Je choisis les seuils de -129 à 129\n",
    "T = [t for t in range(-129, 129)]"
   ]
  },
  {
   "cell_type": "code",
   "execution_count": 70,
   "metadata": {},
   "outputs": [
    {
     "data": {
      "image/png": "[encoded data removed]",
      "text/plain": [
       "<Figure size 432x288 with 1 Axes>"
      ]
     },
     "metadata": {
      "needs_background": "light"
     },
     "output_type": "display_data"
    }
   ],
   "source": [
    "# Pour ex1\n",
    "e = getErreur(T, x1, y1)\n",
    "affichage(T, e, 'b')"
   ]
  },
  {
   "cell_type": "markdown",
   "metadata": {},
   "source": [
    "Quand le seuil est inferieur à 0, il y a moins d'erreur; on dira mêmes presque pas d'erreur.\n",
    "En revanche quand le signal est supérieur à 0, on enregistre un fort taux d'erreur atteignant les 14"
   ]
  },
  {
   "cell_type": "code",
   "execution_count": 71,
   "metadata": {},
   "outputs": [
    {
     "data": {
      "image/png": "[encoded data removed]",
      "text/plain": [
       "<Figure size 432x288 with 1 Axes>"
      ]
     },
     "metadata": {
      "needs_background": "light"
     },
     "output_type": "display_data"
    }
   ],
   "source": [
    "# Pour ex2\n",
    "e = getErreur(T, x2, y2)\n",
    "affichage(T, e, 'r')"
   ]
  },
  {
   "cell_type": "markdown",
   "metadata": {},
   "source": [
    "Quand le seuil est inferieur à 0, il y a moins d'erreur; on dira mêmes presque pas d'erreur.\n",
    "En revanche quand le signal est supérieur à 0, les proportions augmentent légèrement avoisinant les 2"
   ]
  },
  {
   "cell_type": "code",
   "execution_count": 72,
   "metadata": {},
   "outputs": [
    {
     "data": {
      "image/png": "[encoded data removed]",
      "text/plain": [
       "<Figure size 432x288 with 1 Axes>"
      ]
     },
     "metadata": {
      "needs_background": "light"
     },
     "output_type": "display_data"
    }
   ],
   "source": [
    "# Pour ex3\n",
    "e = getErreur(T, x3, y3)\n",
    "affichage(T, e, 'g')"
   ]
  },
  {
   "cell_type": "markdown",
   "metadata": {},
   "source": [
    "Quand le seuil est inferieur à 0, il y a moins d'erreur; on dira mêmes presque pas d'erreur.\n",
    "En revanche quand le signal est supérieur à 0, les erreurs augment mais ne dépasse pas 1."
   ]
  },
  {
   "cell_type": "markdown",
   "metadata": {},
   "source": [
    "#### - Conclusion"
   ]
  },
  {
   "cell_type": "markdown",
   "metadata": {},
   "source": [
    "On peut en déduire que ex1 a plus d'erreurs que ex2 qui à son tour a plus d'erreur que ex3. D'une manière générale, la proportion d'erreur augmente pour des valeurs du seuil au delà de 0. A l'opposé, pour des valeurs du seuil inférieure à 0, la proportion d'erreurs reste relativement faible."
   ]
  },
  {
   "cell_type": "markdown",
   "metadata": {},
   "source": [
    "### Comparaison avec la transformée de Haar"
   ]
  },
  {
   "cell_type": "markdown",
   "metadata": {},
   "source": [
    "En comparons les graphes d'erreurs en fonction du seuil dans les 2 transformées, on constate que :\n",
    "- Dans la transformée de Haar \n",
    "    - Pour ex1, les erreurs varient entre 0 et 14.28\n",
    "    - Pour ex2, les erreurs varient entre 0 et 1.79\n",
    "    - Pour ex3, les erreurs varient entre 0 et 1\n",
    "- Dans la transformée quadratique\n",
    "    - Pour ex1, les erreurs varient entre 0 et environ 14.28\n",
    "    - Pour ex2, les erreurs varient entre 0 et environ 1.79\n",
    "    - Pour ex3, les erreurs varient entre 0 et 0.99\n",
    "    \n",
    "Les courbes ne nous donnent pas assez d'informations qui nous permettent de distinguer clairement les 2 transformées quand le seuil est inférieur à 0. Mais les différences se font voir quand on a un seuil plus grand. En effet, au delà d'un seuil de 0, la courbe d'erreur est légèrement plus grande en utilisant la transformée de Haar sur les signaux ex2 et ex3. On obtient par contre les mêmes résultats en utilisant les 2 transformées sur ex1. \n",
    "\n",
    "On peut en déduire qu'on peut utiliser les 2 transformées pour  les signaux à valeurs discrètes. Par contre, pour les signaux des images et des valeurs périodiques, il est préférable d'utiliser la transformée quadratique eno car on a légèrement moins d'erreur de prédiction quoique cette différence soit minime."
   ]
  }
 ],
 "metadata": {
  "kernelspec": {
   "display_name": "Python 3",
   "language": "python",
   "name": "python3"
  },
  "language_info": {
   "codemirror_mode": {
    "name": "ipython",
    "version": 3
   },
   "file_extension": ".py",
   "mimetype": "text/x-python",
   "name": "python",
   "nbconvert_exporter": "python",
   "pygments_lexer": "ipython3",
   "version": "3.7.3"
  }
 },
 "nbformat": 4,
 "nbformat_minor": 2
}
